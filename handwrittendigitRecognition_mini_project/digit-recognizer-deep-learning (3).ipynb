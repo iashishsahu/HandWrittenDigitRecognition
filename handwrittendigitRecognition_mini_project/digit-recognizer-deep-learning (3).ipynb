{
 "cells": [
  {
   "cell_type": "code",
   "execution_count": 1,
   "id": "52737c53",
   "metadata": {
    "_cell_guid": "b1076dfc-b9ad-4769-8c92-a6c4dae69d19",
    "_uuid": "8f2839f25d086af736a60e9eeb907d3b93b6e0e5",
    "execution": {
     "iopub.execute_input": "2021-11-23T09:36:35.950194Z",
     "iopub.status.busy": "2021-11-23T09:36:35.949377Z",
     "iopub.status.idle": "2021-11-23T09:36:41.618256Z",
     "shell.execute_reply": "2021-11-23T09:36:41.617245Z",
     "shell.execute_reply.started": "2021-11-23T09:28:20.886257Z"
    },
    "papermill": {
     "duration": 5.691309,
     "end_time": "2021-11-23T09:36:41.618431",
     "exception": false,
     "start_time": "2021-11-23T09:36:35.927122",
     "status": "completed"
    },
    "tags": []
   },
   "outputs": [],
   "source": [
    "import pandas as pd\n",
    "import numpy as np\n",
    "import matplotlib.pyplot as plt\n",
    "import tensorflow as tf \n",
    "\n",
    "import matplotlib.image as mpimg"
   ]
  },
  {
   "cell_type": "code",
   "execution_count": 2,
   "id": "88dda5f5",
   "metadata": {
    "_cell_guid": "79c7e3d0-c299-4dcb-8224-4455121ee9b0",
    "_uuid": "d629ff2d2480ee46fbb7e2d37f6b5fab8052498a",
    "execution": {
     "iopub.execute_input": "2021-11-23T09:36:41.647630Z",
     "iopub.status.busy": "2021-11-23T09:36:41.645321Z",
     "iopub.status.idle": "2021-11-23T09:36:46.407249Z",
     "shell.execute_reply": "2021-11-23T09:36:46.406133Z",
     "shell.execute_reply.started": "2021-11-23T09:28:24.637641Z"
    },
    "papermill": {
     "duration": 4.775311,
     "end_time": "2021-11-23T09:36:46.407417",
     "exception": false,
     "start_time": "2021-11-23T09:36:41.632106",
     "status": "completed"
    },
    "tags": []
   },
   "outputs": [],
   "source": [
    "train_input = \"train.csv\"\n",
    "test_input = \"test.csv\"\n",
    "\n",
    "train_dataset = pd.read_csv(train_input)\n",
    "test_dataset = pd.read_csv(test_input)"
   ]
  },
  {
   "cell_type": "code",
   "execution_count": 3,
   "id": "592b2471",
   "metadata": {
    "execution": {
     "iopub.execute_input": "2021-11-23T09:36:46.440590Z",
     "iopub.status.busy": "2021-11-23T09:36:46.439578Z",
     "iopub.status.idle": "2021-11-23T09:36:46.457888Z",
     "shell.execute_reply": "2021-11-23T09:36:46.458355Z",
     "shell.execute_reply.started": "2021-11-23T09:28:30.294550Z"
    },
    "papermill": {
     "duration": 0.039928,
     "end_time": "2021-11-23T09:36:46.458523",
     "exception": false,
     "start_time": "2021-11-23T09:36:46.418595",
     "status": "completed"
    },
    "tags": []
   },
   "outputs": [
    {
     "data": {
      "text/html": [
       "<div>\n",
       "<style scoped>\n",
       "    .dataframe tbody tr th:only-of-type {\n",
       "        vertical-align: middle;\n",
       "    }\n",
       "\n",
       "    .dataframe tbody tr th {\n",
       "        vertical-align: top;\n",
       "    }\n",
       "\n",
       "    .dataframe thead th {\n",
       "        text-align: right;\n",
       "    }\n",
       "</style>\n",
       "<table border=\"1\" class=\"dataframe\">\n",
       "  <thead>\n",
       "    <tr style=\"text-align: right;\">\n",
       "      <th></th>\n",
       "      <th>label</th>\n",
       "      <th>pixel0</th>\n",
       "      <th>pixel1</th>\n",
       "      <th>pixel2</th>\n",
       "      <th>pixel3</th>\n",
       "      <th>pixel4</th>\n",
       "      <th>pixel5</th>\n",
       "      <th>pixel6</th>\n",
       "      <th>pixel7</th>\n",
       "      <th>pixel8</th>\n",
       "      <th>...</th>\n",
       "      <th>pixel774</th>\n",
       "      <th>pixel775</th>\n",
       "      <th>pixel776</th>\n",
       "      <th>pixel777</th>\n",
       "      <th>pixel778</th>\n",
       "      <th>pixel779</th>\n",
       "      <th>pixel780</th>\n",
       "      <th>pixel781</th>\n",
       "      <th>pixel782</th>\n",
       "      <th>pixel783</th>\n",
       "    </tr>\n",
       "  </thead>\n",
       "  <tbody>\n",
       "    <tr>\n",
       "      <th>0</th>\n",
       "      <td>1</td>\n",
       "      <td>0</td>\n",
       "      <td>0</td>\n",
       "      <td>0</td>\n",
       "      <td>0</td>\n",
       "      <td>0</td>\n",
       "      <td>0</td>\n",
       "      <td>0</td>\n",
       "      <td>0</td>\n",
       "      <td>0</td>\n",
       "      <td>...</td>\n",
       "      <td>0</td>\n",
       "      <td>0</td>\n",
       "      <td>0</td>\n",
       "      <td>0</td>\n",
       "      <td>0</td>\n",
       "      <td>0</td>\n",
       "      <td>0</td>\n",
       "      <td>0</td>\n",
       "      <td>0</td>\n",
       "      <td>0</td>\n",
       "    </tr>\n",
       "    <tr>\n",
       "      <th>1</th>\n",
       "      <td>0</td>\n",
       "      <td>0</td>\n",
       "      <td>0</td>\n",
       "      <td>0</td>\n",
       "      <td>0</td>\n",
       "      <td>0</td>\n",
       "      <td>0</td>\n",
       "      <td>0</td>\n",
       "      <td>0</td>\n",
       "      <td>0</td>\n",
       "      <td>...</td>\n",
       "      <td>0</td>\n",
       "      <td>0</td>\n",
       "      <td>0</td>\n",
       "      <td>0</td>\n",
       "      <td>0</td>\n",
       "      <td>0</td>\n",
       "      <td>0</td>\n",
       "      <td>0</td>\n",
       "      <td>0</td>\n",
       "      <td>0</td>\n",
       "    </tr>\n",
       "    <tr>\n",
       "      <th>2</th>\n",
       "      <td>1</td>\n",
       "      <td>0</td>\n",
       "      <td>0</td>\n",
       "      <td>0</td>\n",
       "      <td>0</td>\n",
       "      <td>0</td>\n",
       "      <td>0</td>\n",
       "      <td>0</td>\n",
       "      <td>0</td>\n",
       "      <td>0</td>\n",
       "      <td>...</td>\n",
       "      <td>0</td>\n",
       "      <td>0</td>\n",
       "      <td>0</td>\n",
       "      <td>0</td>\n",
       "      <td>0</td>\n",
       "      <td>0</td>\n",
       "      <td>0</td>\n",
       "      <td>0</td>\n",
       "      <td>0</td>\n",
       "      <td>0</td>\n",
       "    </tr>\n",
       "    <tr>\n",
       "      <th>3</th>\n",
       "      <td>4</td>\n",
       "      <td>0</td>\n",
       "      <td>0</td>\n",
       "      <td>0</td>\n",
       "      <td>0</td>\n",
       "      <td>0</td>\n",
       "      <td>0</td>\n",
       "      <td>0</td>\n",
       "      <td>0</td>\n",
       "      <td>0</td>\n",
       "      <td>...</td>\n",
       "      <td>0</td>\n",
       "      <td>0</td>\n",
       "      <td>0</td>\n",
       "      <td>0</td>\n",
       "      <td>0</td>\n",
       "      <td>0</td>\n",
       "      <td>0</td>\n",
       "      <td>0</td>\n",
       "      <td>0</td>\n",
       "      <td>0</td>\n",
       "    </tr>\n",
       "    <tr>\n",
       "      <th>4</th>\n",
       "      <td>0</td>\n",
       "      <td>0</td>\n",
       "      <td>0</td>\n",
       "      <td>0</td>\n",
       "      <td>0</td>\n",
       "      <td>0</td>\n",
       "      <td>0</td>\n",
       "      <td>0</td>\n",
       "      <td>0</td>\n",
       "      <td>0</td>\n",
       "      <td>...</td>\n",
       "      <td>0</td>\n",
       "      <td>0</td>\n",
       "      <td>0</td>\n",
       "      <td>0</td>\n",
       "      <td>0</td>\n",
       "      <td>0</td>\n",
       "      <td>0</td>\n",
       "      <td>0</td>\n",
       "      <td>0</td>\n",
       "      <td>0</td>\n",
       "    </tr>\n",
       "  </tbody>\n",
       "</table>\n",
       "<p>5 rows × 785 columns</p>\n",
       "</div>"
      ],
      "text/plain": [
       "   label  pixel0  pixel1  pixel2  pixel3  pixel4  pixel5  pixel6  pixel7  \\\n",
       "0      1       0       0       0       0       0       0       0       0   \n",
       "1      0       0       0       0       0       0       0       0       0   \n",
       "2      1       0       0       0       0       0       0       0       0   \n",
       "3      4       0       0       0       0       0       0       0       0   \n",
       "4      0       0       0       0       0       0       0       0       0   \n",
       "\n",
       "   pixel8  ...  pixel774  pixel775  pixel776  pixel777  pixel778  pixel779  \\\n",
       "0       0  ...         0         0         0         0         0         0   \n",
       "1       0  ...         0         0         0         0         0         0   \n",
       "2       0  ...         0         0         0         0         0         0   \n",
       "3       0  ...         0         0         0         0         0         0   \n",
       "4       0  ...         0         0         0         0         0         0   \n",
       "\n",
       "   pixel780  pixel781  pixel782  pixel783  \n",
       "0         0         0         0         0  \n",
       "1         0         0         0         0  \n",
       "2         0         0         0         0  \n",
       "3         0         0         0         0  \n",
       "4         0         0         0         0  \n",
       "\n",
       "[5 rows x 785 columns]"
      ]
     },
     "execution_count": 3,
     "metadata": {},
     "output_type": "execute_result"
    }
   ],
   "source": [
    "train_dataset.head()"
   ]
  },
  {
   "cell_type": "code",
   "execution_count": 4,
   "id": "bc818e01",
   "metadata": {
    "execution": {
     "iopub.execute_input": "2021-11-23T09:36:46.497127Z",
     "iopub.status.busy": "2021-11-23T09:36:46.496295Z",
     "iopub.status.idle": "2021-11-23T09:36:46.500285Z",
     "shell.execute_reply": "2021-11-23T09:36:46.499677Z",
     "shell.execute_reply.started": "2021-11-23T09:28:30.325067Z"
    },
    "papermill": {
     "duration": 0.030349,
     "end_time": "2021-11-23T09:36:46.500434",
     "exception": false,
     "start_time": "2021-11-23T09:36:46.470085",
     "status": "completed"
    },
    "tags": []
   },
   "outputs": [
    {
     "data": {
      "text/html": [
       "<div>\n",
       "<style scoped>\n",
       "    .dataframe tbody tr th:only-of-type {\n",
       "        vertical-align: middle;\n",
       "    }\n",
       "\n",
       "    .dataframe tbody tr th {\n",
       "        vertical-align: top;\n",
       "    }\n",
       "\n",
       "    .dataframe thead th {\n",
       "        text-align: right;\n",
       "    }\n",
       "</style>\n",
       "<table border=\"1\" class=\"dataframe\">\n",
       "  <thead>\n",
       "    <tr style=\"text-align: right;\">\n",
       "      <th></th>\n",
       "      <th>pixel0</th>\n",
       "      <th>pixel1</th>\n",
       "      <th>pixel2</th>\n",
       "      <th>pixel3</th>\n",
       "      <th>pixel4</th>\n",
       "      <th>pixel5</th>\n",
       "      <th>pixel6</th>\n",
       "      <th>pixel7</th>\n",
       "      <th>pixel8</th>\n",
       "      <th>pixel9</th>\n",
       "      <th>...</th>\n",
       "      <th>pixel774</th>\n",
       "      <th>pixel775</th>\n",
       "      <th>pixel776</th>\n",
       "      <th>pixel777</th>\n",
       "      <th>pixel778</th>\n",
       "      <th>pixel779</th>\n",
       "      <th>pixel780</th>\n",
       "      <th>pixel781</th>\n",
       "      <th>pixel782</th>\n",
       "      <th>pixel783</th>\n",
       "    </tr>\n",
       "  </thead>\n",
       "  <tbody>\n",
       "    <tr>\n",
       "      <th>0</th>\n",
       "      <td>0</td>\n",
       "      <td>0</td>\n",
       "      <td>0</td>\n",
       "      <td>0</td>\n",
       "      <td>0</td>\n",
       "      <td>0</td>\n",
       "      <td>0</td>\n",
       "      <td>0</td>\n",
       "      <td>0</td>\n",
       "      <td>0</td>\n",
       "      <td>...</td>\n",
       "      <td>0</td>\n",
       "      <td>0</td>\n",
       "      <td>0</td>\n",
       "      <td>0</td>\n",
       "      <td>0</td>\n",
       "      <td>0</td>\n",
       "      <td>0</td>\n",
       "      <td>0</td>\n",
       "      <td>0</td>\n",
       "      <td>0</td>\n",
       "    </tr>\n",
       "    <tr>\n",
       "      <th>1</th>\n",
       "      <td>0</td>\n",
       "      <td>0</td>\n",
       "      <td>0</td>\n",
       "      <td>0</td>\n",
       "      <td>0</td>\n",
       "      <td>0</td>\n",
       "      <td>0</td>\n",
       "      <td>0</td>\n",
       "      <td>0</td>\n",
       "      <td>0</td>\n",
       "      <td>...</td>\n",
       "      <td>0</td>\n",
       "      <td>0</td>\n",
       "      <td>0</td>\n",
       "      <td>0</td>\n",
       "      <td>0</td>\n",
       "      <td>0</td>\n",
       "      <td>0</td>\n",
       "      <td>0</td>\n",
       "      <td>0</td>\n",
       "      <td>0</td>\n",
       "    </tr>\n",
       "    <tr>\n",
       "      <th>2</th>\n",
       "      <td>0</td>\n",
       "      <td>0</td>\n",
       "      <td>0</td>\n",
       "      <td>0</td>\n",
       "      <td>0</td>\n",
       "      <td>0</td>\n",
       "      <td>0</td>\n",
       "      <td>0</td>\n",
       "      <td>0</td>\n",
       "      <td>0</td>\n",
       "      <td>...</td>\n",
       "      <td>0</td>\n",
       "      <td>0</td>\n",
       "      <td>0</td>\n",
       "      <td>0</td>\n",
       "      <td>0</td>\n",
       "      <td>0</td>\n",
       "      <td>0</td>\n",
       "      <td>0</td>\n",
       "      <td>0</td>\n",
       "      <td>0</td>\n",
       "    </tr>\n",
       "    <tr>\n",
       "      <th>3</th>\n",
       "      <td>0</td>\n",
       "      <td>0</td>\n",
       "      <td>0</td>\n",
       "      <td>0</td>\n",
       "      <td>0</td>\n",
       "      <td>0</td>\n",
       "      <td>0</td>\n",
       "      <td>0</td>\n",
       "      <td>0</td>\n",
       "      <td>0</td>\n",
       "      <td>...</td>\n",
       "      <td>0</td>\n",
       "      <td>0</td>\n",
       "      <td>0</td>\n",
       "      <td>0</td>\n",
       "      <td>0</td>\n",
       "      <td>0</td>\n",
       "      <td>0</td>\n",
       "      <td>0</td>\n",
       "      <td>0</td>\n",
       "      <td>0</td>\n",
       "    </tr>\n",
       "    <tr>\n",
       "      <th>4</th>\n",
       "      <td>0</td>\n",
       "      <td>0</td>\n",
       "      <td>0</td>\n",
       "      <td>0</td>\n",
       "      <td>0</td>\n",
       "      <td>0</td>\n",
       "      <td>0</td>\n",
       "      <td>0</td>\n",
       "      <td>0</td>\n",
       "      <td>0</td>\n",
       "      <td>...</td>\n",
       "      <td>0</td>\n",
       "      <td>0</td>\n",
       "      <td>0</td>\n",
       "      <td>0</td>\n",
       "      <td>0</td>\n",
       "      <td>0</td>\n",
       "      <td>0</td>\n",
       "      <td>0</td>\n",
       "      <td>0</td>\n",
       "      <td>0</td>\n",
       "    </tr>\n",
       "  </tbody>\n",
       "</table>\n",
       "<p>5 rows × 784 columns</p>\n",
       "</div>"
      ],
      "text/plain": [
       "   pixel0  pixel1  pixel2  pixel3  pixel4  pixel5  pixel6  pixel7  pixel8  \\\n",
       "0       0       0       0       0       0       0       0       0       0   \n",
       "1       0       0       0       0       0       0       0       0       0   \n",
       "2       0       0       0       0       0       0       0       0       0   \n",
       "3       0       0       0       0       0       0       0       0       0   \n",
       "4       0       0       0       0       0       0       0       0       0   \n",
       "\n",
       "   pixel9  ...  pixel774  pixel775  pixel776  pixel777  pixel778  pixel779  \\\n",
       "0       0  ...         0         0         0         0         0         0   \n",
       "1       0  ...         0         0         0         0         0         0   \n",
       "2       0  ...         0         0         0         0         0         0   \n",
       "3       0  ...         0         0         0         0         0         0   \n",
       "4       0  ...         0         0         0         0         0         0   \n",
       "\n",
       "   pixel780  pixel781  pixel782  pixel783  \n",
       "0         0         0         0         0  \n",
       "1         0         0         0         0  \n",
       "2         0         0         0         0  \n",
       "3         0         0         0         0  \n",
       "4         0         0         0         0  \n",
       "\n",
       "[5 rows x 784 columns]"
      ]
     },
     "execution_count": 4,
     "metadata": {},
     "output_type": "execute_result"
    }
   ],
   "source": [
    "test_dataset.head()"
   ]
  },
  {
   "cell_type": "code",
   "execution_count": 5,
   "id": "8925fb3c",
   "metadata": {
    "execution": {
     "iopub.execute_input": "2021-11-23T09:36:46.549268Z",
     "iopub.status.busy": "2021-11-23T09:36:46.539956Z",
     "iopub.status.idle": "2021-11-23T09:36:46.700143Z",
     "shell.execute_reply": "2021-11-23T09:36:46.699197Z",
     "shell.execute_reply.started": "2021-11-23T09:28:30.343628Z"
    },
    "papermill": {
     "duration": 0.188043,
     "end_time": "2021-11-23T09:36:46.700302",
     "exception": false,
     "start_time": "2021-11-23T09:36:46.512259",
     "status": "completed"
    },
    "tags": []
   },
   "outputs": [
    {
     "data": {
      "image/png": "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\n",
      "text/plain": [
       "<Figure size 432x288 with 1 Axes>"
      ]
     },
     "metadata": {
      "needs_background": "light"
     },
     "output_type": "display_data"
    }
   ],
   "source": [
    "plt.bar(range(10), train_dataset.label.value_counts(), color=\"#FF6F00\", tick_label=range(10))\n",
    "plt.xlabel(\"Numbers\")\n",
    "plt.ylabel(\"Counts\")\n",
    "plt.show()"
   ]
  },
  {
   "cell_type": "code",
   "execution_count": 6,
   "id": "b5e122f8",
   "metadata": {
    "execution": {
     "iopub.execute_input": "2021-11-23T09:36:46.730727Z",
     "iopub.status.busy": "2021-11-23T09:36:46.730119Z",
     "iopub.status.idle": "2021-11-23T09:36:47.864136Z",
     "shell.execute_reply": "2021-11-23T09:36:47.863144Z",
     "shell.execute_reply.started": "2021-11-23T09:28:30.583009Z"
    },
    "papermill": {
     "duration": 1.151036,
     "end_time": "2021-11-23T09:36:47.864305",
     "exception": false,
     "start_time": "2021-11-23T09:36:46.713269",
     "status": "completed"
    },
    "tags": []
   },
   "outputs": [],
   "source": [
    "train_labels = tf.keras.utils.to_categorical(train_dataset.pop(\"label\"))"
   ]
  },
  {
   "cell_type": "code",
   "execution_count": 7,
   "id": "008fbf08",
   "metadata": {
    "execution": {
     "iopub.execute_input": "2021-11-23T09:36:47.898495Z",
     "iopub.status.busy": "2021-11-23T09:36:47.897825Z",
     "iopub.status.idle": "2021-11-23T09:36:48.280986Z",
     "shell.execute_reply": "2021-11-23T09:36:48.280334Z",
     "shell.execute_reply.started": "2021-11-23T09:28:31.788167Z"
    },
    "papermill": {
     "duration": 0.404475,
     "end_time": "2021-11-23T09:36:48.281127",
     "exception": false,
     "start_time": "2021-11-23T09:36:47.876652",
     "status": "completed"
    },
    "tags": []
   },
   "outputs": [],
   "source": [
    "train_dataset = np.array(train_dataset.values.reshape(-1, 28, 28, 1))\n",
    "test_dataset = np.array(test_dataset.values.reshape(-1, 28, 28, 1))"
   ]
  },
  {
   "cell_type": "code",
   "execution_count": 8,
   "id": "97dd8a28",
   "metadata": {
    "execution": {
     "iopub.execute_input": "2021-11-23T09:36:48.309796Z",
     "iopub.status.busy": "2021-11-23T09:36:48.309059Z",
     "iopub.status.idle": "2021-11-23T09:36:48.502563Z",
     "shell.execute_reply": "2021-11-23T09:36:48.501999Z",
     "shell.execute_reply.started": "2021-11-23T09:28:32.186467Z"
    },
    "papermill": {
     "duration": 0.209227,
     "end_time": "2021-11-23T09:36:48.502704",
     "exception": false,
     "start_time": "2021-11-23T09:36:48.293477",
     "status": "completed"
    },
    "tags": []
   },
   "outputs": [],
   "source": [
    "train_dataset = train_dataset/255.0\n",
    "test_dataset = test_dataset/255.0\n",
    "#pixel-255"
   ]
  },
  {
   "cell_type": "code",
   "execution_count": 9,
   "id": "041a97b9",
   "metadata": {
    "execution": {
     "iopub.execute_input": "2021-11-23T09:36:48.532036Z",
     "iopub.status.busy": "2021-11-23T09:36:48.531243Z",
     "iopub.status.idle": "2021-11-23T09:36:48.533993Z",
     "shell.execute_reply": "2021-11-23T09:36:48.533487Z",
     "shell.execute_reply.started": "2021-11-23T09:28:32.386809Z"
    },
    "papermill": {
     "duration": 0.018841,
     "end_time": "2021-11-23T09:36:48.534142",
     "exception": false,
     "start_time": "2021-11-23T09:36:48.515301",
     "status": "completed"
    },
    "tags": []
   },
   "outputs": [],
   "source": [
    "checkpoint_path = \"logs/checkpoints/\""
   ]
  },
  {
   "cell_type": "code",
   "execution_count": 10,
   "id": "fc5abfbf",
   "metadata": {
    "execution": {
     "iopub.execute_input": "2021-11-23T09:36:48.562082Z",
     "iopub.status.busy": "2021-11-23T09:36:48.561444Z",
     "iopub.status.idle": "2021-11-23T09:43:16.264629Z",
     "shell.execute_reply": "2021-11-23T09:43:16.264079Z",
     "shell.execute_reply.started": "2021-11-23T09:28:32.394626Z"
    },
    "papermill": {
     "duration": 387.718351,
     "end_time": "2021-11-23T09:43:16.264776",
     "exception": false,
     "start_time": "2021-11-23T09:36:48.546425",
     "status": "completed"
    },
    "tags": []
   },
   "outputs": [
    {
     "name": "stdout",
     "output_type": "stream",
     "text": [
      "Model: \"sequential\"\n",
      "_________________________________________________________________\n",
      " Layer (type)                Output Shape              Param #   \n",
      "=================================================================\n",
      " conv2d (Conv2D)             (None, 28, 28, 64)        640       \n",
      "                                                                 \n",
      " max_pooling2d (MaxPooling2D  (None, 14, 14, 64)       0         \n",
      " )                                                               \n",
      "                                                                 \n",
      " conv2d_1 (Conv2D)           (None, 14, 14, 64)        36928     \n",
      "                                                                 \n",
      " max_pooling2d_1 (MaxPooling  (None, 7, 7, 64)         0         \n",
      " 2D)                                                             \n",
      "                                                                 \n",
      " dropout (Dropout)           (None, 7, 7, 64)          0         \n",
      "                                                                 \n",
      " conv2d_2 (Conv2D)           (None, 7, 7, 128)         73856     \n",
      "                                                                 \n",
      " max_pooling2d_2 (MaxPooling  (None, 3, 3, 128)        0         \n",
      " 2D)                                                             \n",
      "                                                                 \n",
      " batch_normalization (BatchN  (None, 3, 3, 128)        512       \n",
      " ormalization)                                                   \n",
      "                                                                 \n",
      " conv2d_3 (Conv2D)           (None, 3, 3, 128)         147584    \n",
      "                                                                 \n",
      " max_pooling2d_3 (MaxPooling  (None, 1, 1, 128)        0         \n",
      " 2D)                                                             \n",
      "                                                                 \n",
      " batch_normalization_1 (Batc  (None, 1, 1, 128)        512       \n",
      " hNormalization)                                                 \n",
      "                                                                 \n",
      " flatten (Flatten)           (None, 128)               0         \n",
      "                                                                 \n",
      " dense (Dense)               (None, 128)               16512     \n",
      "                                                                 \n",
      " dropout_1 (Dropout)         (None, 128)               0         \n",
      "                                                                 \n",
      " dense_1 (Dense)             (None, 10)                1290      \n",
      "                                                                 \n",
      "=================================================================\n",
      "Total params: 277,834\n",
      "Trainable params: 277,322\n",
      "Non-trainable params: 512\n",
      "_________________________________________________________________\n",
      "Epoch 1/10\n",
      "657/657 [==============================] - 62s 92ms/step - loss: 0.3477 - accuracy: 0.8917\n",
      "Epoch 2/10\n",
      "657/657 [==============================] - 44s 68ms/step - loss: 0.0973 - accuracy: 0.9708\n",
      "Epoch 3/10\n",
      "657/657 [==============================] - 44s 66ms/step - loss: 0.0728 - accuracy: 0.9779\n",
      "Epoch 4/10\n",
      "657/657 [==============================] - 46s 70ms/step - loss: 0.0628 - accuracy: 0.9811\n",
      "Epoch 5/10\n",
      "657/657 [==============================] - 49s 75ms/step - loss: 0.0569 - accuracy: 0.9825\n",
      "Epoch 6/10\n",
      "657/657 [==============================] - 50s 76ms/step - loss: 0.0480 - accuracy: 0.9860\n",
      "Epoch 7/10\n",
      "657/657 [==============================] - 45s 69ms/step - loss: 0.0472 - accuracy: 0.98590s - loss: 0.0468 \n",
      "Epoch 8/10\n",
      "657/657 [==============================] - 46s 69ms/step - loss: 0.0458 - accuracy: 0.9858\n",
      "Epoch 9/10\n",
      "657/657 [==============================] - 49s 75ms/step - loss: 0.0380 - accuracy: 0.9884\n",
      "Epoch 10/10\n",
      "657/657 [==============================] - 45s 69ms/step - loss: 0.0364 - accuracy: 0.9895\n"
     ]
    }
   ],
   "source": [
    "model = tf.keras.models.Sequential([\n",
    "    tf.keras.layers.Conv2D(64, (3, 3), input_shape=(28, 28, 1), activation=tf.nn.relu, padding=\"SAME\"),\n",
    "    tf.keras.layers.MaxPooling2D(),#max value of a filter by striding\n",
    "    tf.keras.layers.Conv2D(64, (3, 3), activation=tf.nn.relu, padding=\"SAME\"),\n",
    "    tf.keras.layers.MaxPooling2D(),\n",
    "    tf.keras.layers.Dropout(0.5),\n",
    "    tf.keras.layers.Conv2D(128, (3, 3), activation=tf.nn.relu, padding=\"SAME\"),#not change  img size\n",
    "    #relu filter the output if the fun returns 0 or less\n",
    "    tf.keras.layers.MaxPooling2D(),\n",
    "    tf.keras.layers.BatchNormalization(),\n",
    "    tf.keras.layers.Conv2D(128, (3, 3), activation=tf.nn.relu, padding=\"SAME\"),\n",
    "    tf.keras.layers.MaxPooling2D(),\n",
    "    tf.keras.layers.BatchNormalization(),#to normalise pixel size\n",
    "    tf.keras.layers.Flatten(), #image pixel array\n",
    "    tf.keras.layers.Dense(128, activation=tf.nn.relu),\n",
    "    tf.keras.layers.Dropout(0.5),#to prevent overfitting , used in training dataset\n",
    "    tf.keras.layers.Dense(10, activation=\"softmax\") #softmax picks the biggest number in the set(probability)\n",
    "])\n",
    "model.summary()\n",
    "epochs=10\n",
    "\n",
    "callbacks = [\n",
    "    tf.keras.callbacks.ModelCheckpoint(filepath=checkpoint_path,\n",
    "                                        monitor=\"accuracy\",\n",
    "                                        save_best_only=True,\n",
    "                                        save_weights_only=True),\n",
    "    tf.keras.callbacks.EarlyStopping(monitor=\"accuracy\", patience=15)#callbacks-best weight save\n",
    "]\n",
    "\n",
    "model.compile(optimizer=\"adam\", loss=\"categorical_crossentropy\", metrics=[\"accuracy\"])\n",
    "history = model.fit(train_dataset, train_labels, epochs=epochs, callbacks=callbacks, batch_size=64)"
   ]
  },
  {
   "cell_type": "code",
   "execution_count": 11,
   "id": "ca84e219",
   "metadata": {
    "execution": {
     "iopub.execute_input": "2021-11-23T09:43:19.360526Z",
     "iopub.status.busy": "2021-11-23T09:43:19.355758Z",
     "iopub.status.idle": "2021-11-23T09:43:19.697291Z",
     "shell.execute_reply": "2021-11-23T09:43:19.697759Z",
     "shell.execute_reply.started": "2021-11-23T09:35:55.676715Z"
    },
    "papermill": {
     "duration": 1.906321,
     "end_time": "2021-11-23T09:43:19.697944",
     "exception": false,
     "start_time": "2021-11-23T09:43:17.791623",
     "status": "completed"
    },
    "tags": []
   },
   "outputs": [
    {
     "data": {
      "image/png": "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\n",
      "text/plain": [
       "<Figure size 432x288 with 1 Axes>"
      ]
     },
     "metadata": {
      "needs_background": "light"
     },
     "output_type": "display_data"
    },
    {
     "data": {
      "image/png": "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\n",
      "text/plain": [
       "<Figure size 432x288 with 1 Axes>"
      ]
     },
     "metadata": {
      "needs_background": "light"
     },
     "output_type": "display_data"
    }
   ],
   "source": [
    "def plot_metric(metric):\n",
    "    plt.plot(range(epochs), history.history[metric], color=\"#FF6F00\")\n",
    "    plt.title(metric)\n",
    "    plt.show()  \n",
    "plot_metric(\"accuracy\")\n",
    "plot_metric(\"loss\")"
   ]
  },
  {
   "cell_type": "code",
   "execution_count": 12,
   "id": "48f6f2a8",
   "metadata": {
    "execution": {
     "iopub.execute_input": "2021-11-23T09:43:22.737786Z",
     "iopub.status.busy": "2021-11-23T09:43:22.737175Z",
     "iopub.status.idle": "2021-11-23T09:43:22.783166Z",
     "shell.execute_reply": "2021-11-23T09:43:22.783594Z",
     "shell.execute_reply.started": "2021-11-23T09:35:56.069706Z"
    },
    "papermill": {
     "duration": 1.570971,
     "end_time": "2021-11-23T09:43:22.783778",
     "exception": false,
     "start_time": "2021-11-23T09:43:21.212807",
     "status": "completed"
    },
    "tags": []
   },
   "outputs": [
    {
     "data": {
      "text/plain": [
       "<tensorflow.python.training.tracking.util.CheckpointLoadStatus at 0x263866e1820>"
      ]
     },
     "execution_count": 12,
     "metadata": {},
     "output_type": "execute_result"
    }
   ],
   "source": [
    "model.load_weights(checkpoint_path)"
   ]
  },
  {
   "cell_type": "code",
   "execution_count": 13,
   "id": "c958f2b9",
   "metadata": {
    "execution": {
     "iopub.execute_input": "2021-11-23T09:43:25.928442Z",
     "iopub.status.busy": "2021-11-23T09:43:25.927794Z",
     "iopub.status.idle": "2021-11-23T09:43:35.470671Z",
     "shell.execute_reply": "2021-11-23T09:43:35.470140Z",
     "shell.execute_reply.started": "2021-11-23T09:35:56.136271Z"
    },
    "papermill": {
     "duration": 11.123462,
     "end_time": "2021-11-23T09:43:35.470832",
     "exception": false,
     "start_time": "2021-11-23T09:43:24.347370",
     "status": "completed"
    },
    "tags": []
   },
   "outputs": [],
   "source": [
    "labels = [np.argmax(predict) for predict in model.predict(test_dataset)]\n",
    "df = pd.DataFrame({\n",
    "    \"ImageId\": list(range(1, len(test_dataset)+1)),\n",
    "    \"Label\": labels,\n",
    "})"
   ]
  },
  {
   "cell_type": "code",
   "execution_count": null,
   "id": "c19c7e88",
   "metadata": {
    "execution": {
     "iopub.execute_input": "2021-11-23T09:43:38.480848Z",
     "iopub.status.busy": "2021-11-23T09:43:38.480170Z",
     "iopub.status.idle": "2021-11-23T09:43:38.514825Z",
     "shell.execute_reply": "2021-11-23T09:43:38.515409Z",
     "shell.execute_reply.started": "2021-11-23T09:36:05.425339Z"
    },
    "papermill": {
     "duration": 1.53528,
     "end_time": "2021-11-23T09:43:38.515577",
     "exception": false,
     "start_time": "2021-11-23T09:43:36.980297",
     "status": "completed"
    },
    "tags": []
   },
   "outputs": [],
   "source": []
  },
  {
   "cell_type": "code",
   "execution_count": 14,
   "id": "c076c02f",
   "metadata": {
    "execution": {
     "iopub.execute_input": "2021-11-23T09:43:41.547353Z",
     "iopub.status.busy": "2021-11-23T09:43:41.546693Z",
     "iopub.status.idle": "2021-11-23T09:43:41.597130Z",
     "shell.execute_reply": "2021-11-23T09:43:41.597623Z",
     "shell.execute_reply.started": "2021-11-23T09:36:05.490122Z"
    },
    "papermill": {
     "duration": 1.595666,
     "end_time": "2021-11-23T09:43:41.597788",
     "exception": false,
     "start_time": "2021-11-23T09:43:40.002122",
     "status": "completed"
    },
    "tags": []
   },
   "outputs": [],
   "source": [
    "model.save(\"model.h5\")"
   ]
  },
  {
   "cell_type": "code",
   "execution_count": null,
   "id": "519eff21",
   "metadata": {
    "papermill": {
     "duration": 1.497983,
     "end_time": "2021-11-23T09:43:44.590212",
     "exception": false,
     "start_time": "2021-11-23T09:43:43.092229",
     "status": "completed"
    },
    "tags": []
   },
   "outputs": [],
   "source": [
    "import tkinter as tk\n",
    "from tkinter import *\n",
    "import win32gui\n",
    "import numpy as np\n",
    "from PIL import ImageGrab,Image\n",
    "import tkinter.messagebox\n",
    "import tensorflow as tf\n",
    "\n",
    "def clear():\n",
    "    canvas.delete(\"all\")\n",
    "\n",
    "def predict():\n",
    "    x0 = canvas.winfo_rootx() + 8\n",
    "    y0 = canvas.winfo_rooty() + 3\n",
    "    x1 = x0 + 425\n",
    "    y1 = y0 + 470\n",
    "\n",
    "    img = ImageGrab.grab((x0, y0, x1, y1))\n",
    "   \n",
    "    img = img.resize((28, 28)).convert(\"L\")\n",
    "    img = np.array(img)\n",
    "    img = img.reshape((1, 28, 28, 1))\n",
    "    img = img / 255.0\n",
    "    value = np.argmax(model.predict(img))\n",
    "    tkinter.messagebox.showinfo(\"Prediction\", \"it's a \" + str(value))\n",
    "\n",
    "def get_x_and_y(event):\n",
    "    global lasx, lasy\n",
    "    lasx, lasy = event.x, event.y\n",
    "    #to find prev coordinate of drawn point\n",
    "\n",
    "def draw(event):\n",
    "    global lasx, lasy\n",
    "    canvas.create_oval((lasx, lasy, event.x, event.y), \n",
    "                      fill='white', outline='white', \n",
    "                      width=15)\n",
    "    lasx, lasy = event.x, event.y\n",
    "\n",
    "\n",
    "\n",
    "model = tf.keras.models.load_model(\"model.h5\")\n",
    "window = Tk()\n",
    "window.geometry(\"350x400+1+1\")\n",
    "window.title(\"Digit Recognization.\")\n",
    "\n",
    "canvas = Canvas(window, bg='black',height=\"370\",width=\"340\")\n",
    "canvas.bind(\"<Button-1>\", get_x_and_y)\n",
    "canvas.bind(\"<B1-Motion>\", draw)\n",
    "\n",
    "button_frame = tk.Frame(window)\n",
    "clear_button = tk.Button(button_frame, text=\"Clearscreen\", command=clear)\n",
    "predict_button = tk.Button(button_frame, text=\"Predict the number\", command=predict)\n",
    "\n",
    "canvas.pack(expand= FALSE)#the canvas size remains same even after expanding the window\n",
    "clear_button.pack(side=\"left\")\n",
    "predict_button.pack(side=\"right\")\n",
    "button_frame.pack(side = \"bottom\")\n",
    "\n",
    "window.mainloop()"
   ]
  },
  {
   "cell_type": "code",
   "execution_count": null,
   "id": "4403bffa",
   "metadata": {
    "papermill": {
     "duration": 1.555508,
     "end_time": "2021-11-23T09:43:47.678266",
     "exception": false,
     "start_time": "2021-11-23T09:43:46.122758",
     "status": "completed"
    },
    "tags": []
   },
   "outputs": [],
   "source": []
  }
 ],
 "metadata": {
  "kernelspec": {
   "display_name": "Python 3 (ipykernel)",
   "language": "python",
   "name": "python3"
  },
  "language_info": {
   "codemirror_mode": {
    "name": "ipython",
    "version": 3
   },
   "file_extension": ".py",
   "mimetype": "text/x-python",
   "name": "python",
   "nbconvert_exporter": "python",
   "pygments_lexer": "ipython3",
   "version": "3.9.7"
  },
  "papermill": {
   "default_parameters": {},
   "duration": 444.314667,
   "end_time": "2021-11-23T09:43:52.252635",
   "environment_variables": {},
   "exception": null,
   "input_path": "__notebook__.ipynb",
   "output_path": "__notebook__.ipynb",
   "parameters": {},
   "start_time": "2021-11-23T09:36:27.937968",
   "version": "2.3.3"
  }
 },
 "nbformat": 4,
 "nbformat_minor": 5
}

"""HEY"""
